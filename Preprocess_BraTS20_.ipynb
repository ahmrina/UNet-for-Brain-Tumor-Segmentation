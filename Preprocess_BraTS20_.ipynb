{
  "cells": [
    {
      "cell_type": "markdown",
      "metadata": {
        "id": "view-in-github",
        "colab_type": "text"
      },
      "source": [
        "<a href=\"https://colab.research.google.com/github/ahmrina/UNet-for-Brain-Tumor-Segmentation/blob/main/Preprocess_BraTS20_.ipynb\" target=\"_parent\"><img src=\"https://colab.research.google.com/assets/colab-badge.svg\" alt=\"Open In Colab\"/></a>"
      ]
    },
    {
      "cell_type": "markdown",
      "metadata": {
        "id": "xhxhubD1Qhez"
      },
      "source": [
        "# Preprocessing BraTS20 dataset"
      ]
    },
    {
      "cell_type": "code",
      "execution_count": null,
      "metadata": {
        "id": "1g_MToLg25Aj"
      },
      "outputs": [],
      "source": [
        "import os\n",
        "from google.colab import drive\n",
        "import torch\n",
        "import torch.nn as nn\n",
        "import torch.nn.functional as F\n",
        "import torchvision\n",
        "from torchvision.transforms import ToTensor\n",
        "import matplotlib.pyplot as plt\n",
        "import numpy as np\n",
        "from nibabel.testing import data_path\n",
        "import nibabel as nib\n",
        "from tqdm.auto import tqdm"
      ]
    },
    {
      "cell_type": "code",
      "execution_count": null,
      "metadata": {
        "colab": {
          "base_uri": "https://localhost:8080/"
        },
        "id": "mN6zSa9B66SA",
        "outputId": "c271af10-652b-4127-a197-5bf78210bd03"
      },
      "outputs": [
        {
          "output_type": "stream",
          "name": "stdout",
          "text": [
            "Drive already mounted at /content/drive; to attempt to forcibly remount, call drive.mount(\"/content/drive\", force_remount=True).\n"
          ]
        }
      ],
      "source": [
        "drive.mount('/content/drive')"
      ]
    },
    {
      "cell_type": "code",
      "execution_count": null,
      "metadata": {
        "id": "ePnVHJcg9fnx"
      },
      "outputs": [],
      "source": [
        "path = '/content/drive/My Drive/MRI_segmentation_UNet'\n",
        "training_set = '/content/drive/My Drive/MRI_segmentation_UNet/BraTS2020_TrainingData/MICCAI_BraTS2020_TrainingData'\n",
        "validating_set = '/content/drive/My Drive/MRI_segmentation_UNet/BraTS2020_ValidationData/MICCAI_BraTS2020_ValidationData'\n",
        "os.makedirs(path, exist_ok=True)\n",
        "# os.makedirs(dataset_path, exist_ok = True)"
      ]
    },
    {
      "cell_type": "code",
      "execution_count": null,
      "metadata": {
        "id": "CDV1uxoqjkBy"
      },
      "outputs": [],
      "source": [
        "class load_BraTS20():\n",
        "  def __init__(self):\n",
        "    pass\n",
        "\n",
        "  def load_nifti(self, file_path):\n",
        "    img = nib.load(file_path)\n",
        "    return img.get_fdata()\n",
        "\n",
        "  def load_training(self, path, start, end):\n",
        "    t2_train, t1ce_train, flair_train, mask_train = np.array([]), np.array([]), np.array([]), np.array([])\n",
        "    patient_count = start\n",
        "\n",
        "    patients = sorted(os.listdir(path))\n",
        "    selected_patients = patients[start:end]\n",
        "    # print(selected_patients)\n",
        "\n",
        "    for patient in selected_patients:\n",
        "\n",
        "        patient_dir = os.path.join(path, patient)\n",
        "        if os.path.isdir(patient_dir):\n",
        "\n",
        "            # t1_train = self.load_nifti(os.path.join(patient_dir, f'{patient}_t1.nii'))\n",
        "            t1ce = self.load_nifti(os.path.join(patient_dir, f'{patient}_t1ce.nii'))\n",
        "            t2 = self.load_nifti(os.path.join(patient_dir, f'{patient}_t2.nii'))\n",
        "            flair = self.load_nifti(os.path.join(patient_dir, f'{patient}_flair.nii'))\n",
        "            mask = self.load_nifti(os.path.join(patient_dir, f'{patient}_seg.nii'))\n",
        "            print(patient_dir)\n",
        "\n",
        "            if t2_train.size == 0:\n",
        "                t2_train = t2\n",
        "                t1ce_train = t1ce\n",
        "                flair_train = flair\n",
        "                mask_train = mask\n",
        "            else:\n",
        "              t1ce_train = np.concatenate((t1ce_train, t1ce), axis = 0)\n",
        "              t2_train = np.concatenate((t2_train, t2), axis = 0)\n",
        "              flair_train = np.concatenate((flair_train, flair), axis = 0)\n",
        "              mask_train = np.concatenate((mask_train, mask), axis = 0)\n",
        "\n",
        "    return t1ce_train, t2_train, flair_train, mask_train\n",
        "\n",
        "  def load_validation(self, path, start, end):\n",
        "    # no segmentation masks\n",
        "    t2_val, t1ce_val, flair_val = np.array([]), np.array([]), np.array([])\n",
        "\n",
        "    patients = sorted(os.listdir(path))\n",
        "    selected_patients = patients[start:end]\n",
        "\n",
        "\n",
        "    for patient in selected_patients:\n",
        "        patient_dir = os.path.join(path, patient)\n",
        "        if os.path.isdir(patient_dir):\n",
        "\n",
        "            t1ce = self.load_nifti(os.path.join(patient_dir, f'{patient}_t1ce.nii'))\n",
        "            t2 = self.load_nifti(os.path.join(patient_dir, f'{patient}_t2.nii'))\n",
        "            flair = self.load_nifti(os.path.join(patient_dir, f'{patient}_flair.nii'))\n",
        "\n",
        "            if t2_val.size == 0:\n",
        "                t2_val = t2\n",
        "                t1ce_val = t1ce\n",
        "                flair_val = flair\n",
        "            else:\n",
        "              t1ce_val = np.concatenate((t1ce_val, t1ce))\n",
        "              t2_val = np.concatenate((t2_val, t2))\n",
        "              flair_val = np.concatenate((flair_val, flair))\n",
        "        print(patient_dir)\n",
        "    return t1ce_val, t2_val, flair_val\n"
      ]
    },
    {
      "cell_type": "code",
      "execution_count": null,
      "metadata": {
        "id": "OkDJLshGXEHL"
      },
      "outputs": [],
      "source": [
        "dataset = load_BraTS20()"
      ]
    },
    {
      "cell_type": "code",
      "execution_count": null,
      "metadata": {
        "id": "CILTDFfyajDD",
        "collapsed": true
      },
      "outputs": [],
      "source": [
        "t1ce_train, t2_train, flair_train, mask_train = dataset.load_training(training_set, start = 300, end = 369)"
      ]
    },
    {
      "cell_type": "code",
      "execution_count": null,
      "metadata": {
        "id": "n_HI1uYMir4j",
        "colab": {
          "base_uri": "https://localhost:8080/"
        },
        "outputId": "0f186361-c9e4-4e2f-cf7b-fdf86e9eb733"
      },
      "outputs": [
        {
          "output_type": "stream",
          "name": "stdout",
          "text": [
            "/content/drive/My Drive/MRI_segmentation_UNet/BraTS2020_ValidationData/MICCAI_BraTS2020_ValidationData/BraTS20_Validation_063\n",
            "/content/drive/My Drive/MRI_segmentation_UNet/BraTS2020_ValidationData/MICCAI_BraTS2020_ValidationData/BraTS20_Validation_064\n",
            "/content/drive/My Drive/MRI_segmentation_UNet/BraTS2020_ValidationData/MICCAI_BraTS2020_ValidationData/BraTS20_Validation_065\n",
            "/content/drive/My Drive/MRI_segmentation_UNet/BraTS2020_ValidationData/MICCAI_BraTS2020_ValidationData/BraTS20_Validation_066\n",
            "/content/drive/My Drive/MRI_segmentation_UNet/BraTS2020_ValidationData/MICCAI_BraTS2020_ValidationData/BraTS20_Validation_067\n",
            "/content/drive/My Drive/MRI_segmentation_UNet/BraTS2020_ValidationData/MICCAI_BraTS2020_ValidationData/BraTS20_Validation_068\n",
            "/content/drive/My Drive/MRI_segmentation_UNet/BraTS2020_ValidationData/MICCAI_BraTS2020_ValidationData/BraTS20_Validation_069\n",
            "/content/drive/My Drive/MRI_segmentation_UNet/BraTS2020_ValidationData/MICCAI_BraTS2020_ValidationData/BraTS20_Validation_070\n",
            "/content/drive/My Drive/MRI_segmentation_UNet/BraTS2020_ValidationData/MICCAI_BraTS2020_ValidationData/BraTS20_Validation_071\n",
            "/content/drive/My Drive/MRI_segmentation_UNet/BraTS2020_ValidationData/MICCAI_BraTS2020_ValidationData/BraTS20_Validation_072\n",
            "/content/drive/My Drive/MRI_segmentation_UNet/BraTS2020_ValidationData/MICCAI_BraTS2020_ValidationData/BraTS20_Validation_073\n",
            "/content/drive/My Drive/MRI_segmentation_UNet/BraTS2020_ValidationData/MICCAI_BraTS2020_ValidationData/BraTS20_Validation_074\n",
            "/content/drive/My Drive/MRI_segmentation_UNet/BraTS2020_ValidationData/MICCAI_BraTS2020_ValidationData/BraTS20_Validation_075\n",
            "/content/drive/My Drive/MRI_segmentation_UNet/BraTS2020_ValidationData/MICCAI_BraTS2020_ValidationData/BraTS20_Validation_076\n",
            "/content/drive/My Drive/MRI_segmentation_UNet/BraTS2020_ValidationData/MICCAI_BraTS2020_ValidationData/BraTS20_Validation_077\n",
            "/content/drive/My Drive/MRI_segmentation_UNet/BraTS2020_ValidationData/MICCAI_BraTS2020_ValidationData/BraTS20_Validation_078\n",
            "/content/drive/My Drive/MRI_segmentation_UNet/BraTS2020_ValidationData/MICCAI_BraTS2020_ValidationData/BraTS20_Validation_079\n",
            "/content/drive/My Drive/MRI_segmentation_UNet/BraTS2020_ValidationData/MICCAI_BraTS2020_ValidationData/BraTS20_Validation_080\n",
            "/content/drive/My Drive/MRI_segmentation_UNet/BraTS2020_ValidationData/MICCAI_BraTS2020_ValidationData/BraTS20_Validation_081\n",
            "/content/drive/My Drive/MRI_segmentation_UNet/BraTS2020_ValidationData/MICCAI_BraTS2020_ValidationData/BraTS20_Validation_082\n",
            "/content/drive/My Drive/MRI_segmentation_UNet/BraTS2020_ValidationData/MICCAI_BraTS2020_ValidationData/BraTS20_Validation_083\n",
            "/content/drive/My Drive/MRI_segmentation_UNet/BraTS2020_ValidationData/MICCAI_BraTS2020_ValidationData/BraTS20_Validation_084\n",
            "/content/drive/My Drive/MRI_segmentation_UNet/BraTS2020_ValidationData/MICCAI_BraTS2020_ValidationData/BraTS20_Validation_085\n",
            "/content/drive/My Drive/MRI_segmentation_UNet/BraTS2020_ValidationData/MICCAI_BraTS2020_ValidationData/BraTS20_Validation_086\n",
            "/content/drive/My Drive/MRI_segmentation_UNet/BraTS2020_ValidationData/MICCAI_BraTS2020_ValidationData/BraTS20_Validation_087\n",
            "/content/drive/My Drive/MRI_segmentation_UNet/BraTS2020_ValidationData/MICCAI_BraTS2020_ValidationData/BraTS20_Validation_088\n",
            "/content/drive/My Drive/MRI_segmentation_UNet/BraTS2020_ValidationData/MICCAI_BraTS2020_ValidationData/BraTS20_Validation_089\n",
            "/content/drive/My Drive/MRI_segmentation_UNet/BraTS2020_ValidationData/MICCAI_BraTS2020_ValidationData/BraTS20_Validation_090\n",
            "/content/drive/My Drive/MRI_segmentation_UNet/BraTS2020_ValidationData/MICCAI_BraTS2020_ValidationData/BraTS20_Validation_091\n",
            "/content/drive/My Drive/MRI_segmentation_UNet/BraTS2020_ValidationData/MICCAI_BraTS2020_ValidationData/BraTS20_Validation_092\n",
            "/content/drive/My Drive/MRI_segmentation_UNet/BraTS2020_ValidationData/MICCAI_BraTS2020_ValidationData/BraTS20_Validation_093\n",
            "/content/drive/My Drive/MRI_segmentation_UNet/BraTS2020_ValidationData/MICCAI_BraTS2020_ValidationData/BraTS20_Validation_094\n",
            "/content/drive/My Drive/MRI_segmentation_UNet/BraTS2020_ValidationData/MICCAI_BraTS2020_ValidationData/BraTS20_Validation_095\n",
            "/content/drive/My Drive/MRI_segmentation_UNet/BraTS2020_ValidationData/MICCAI_BraTS2020_ValidationData/BraTS20_Validation_096\n",
            "/content/drive/My Drive/MRI_segmentation_UNet/BraTS2020_ValidationData/MICCAI_BraTS2020_ValidationData/BraTS20_Validation_097\n",
            "/content/drive/My Drive/MRI_segmentation_UNet/BraTS2020_ValidationData/MICCAI_BraTS2020_ValidationData/BraTS20_Validation_098\n",
            "/content/drive/My Drive/MRI_segmentation_UNet/BraTS2020_ValidationData/MICCAI_BraTS2020_ValidationData/BraTS20_Validation_099\n",
            "/content/drive/My Drive/MRI_segmentation_UNet/BraTS2020_ValidationData/MICCAI_BraTS2020_ValidationData/BraTS20_Validation_100\n",
            "/content/drive/My Drive/MRI_segmentation_UNet/BraTS2020_ValidationData/MICCAI_BraTS2020_ValidationData/BraTS20_Validation_101\n",
            "/content/drive/My Drive/MRI_segmentation_UNet/BraTS2020_ValidationData/MICCAI_BraTS2020_ValidationData/BraTS20_Validation_102\n",
            "/content/drive/My Drive/MRI_segmentation_UNet/BraTS2020_ValidationData/MICCAI_BraTS2020_ValidationData/BraTS20_Validation_103\n",
            "/content/drive/My Drive/MRI_segmentation_UNet/BraTS2020_ValidationData/MICCAI_BraTS2020_ValidationData/BraTS20_Validation_104\n",
            "/content/drive/My Drive/MRI_segmentation_UNet/BraTS2020_ValidationData/MICCAI_BraTS2020_ValidationData/BraTS20_Validation_105\n",
            "/content/drive/My Drive/MRI_segmentation_UNet/BraTS2020_ValidationData/MICCAI_BraTS2020_ValidationData/BraTS20_Validation_106\n",
            "/content/drive/My Drive/MRI_segmentation_UNet/BraTS2020_ValidationData/MICCAI_BraTS2020_ValidationData/BraTS20_Validation_107\n",
            "/content/drive/My Drive/MRI_segmentation_UNet/BraTS2020_ValidationData/MICCAI_BraTS2020_ValidationData/BraTS20_Validation_108\n",
            "/content/drive/My Drive/MRI_segmentation_UNet/BraTS2020_ValidationData/MICCAI_BraTS2020_ValidationData/BraTS20_Validation_109\n",
            "/content/drive/My Drive/MRI_segmentation_UNet/BraTS2020_ValidationData/MICCAI_BraTS2020_ValidationData/BraTS20_Validation_110\n",
            "/content/drive/My Drive/MRI_segmentation_UNet/BraTS2020_ValidationData/MICCAI_BraTS2020_ValidationData/BraTS20_Validation_111\n",
            "/content/drive/My Drive/MRI_segmentation_UNet/BraTS2020_ValidationData/MICCAI_BraTS2020_ValidationData/BraTS20_Validation_112\n",
            "/content/drive/My Drive/MRI_segmentation_UNet/BraTS2020_ValidationData/MICCAI_BraTS2020_ValidationData/BraTS20_Validation_113\n",
            "/content/drive/My Drive/MRI_segmentation_UNet/BraTS2020_ValidationData/MICCAI_BraTS2020_ValidationData/BraTS20_Validation_114\n",
            "/content/drive/My Drive/MRI_segmentation_UNet/BraTS2020_ValidationData/MICCAI_BraTS2020_ValidationData/BraTS20_Validation_115\n",
            "/content/drive/My Drive/MRI_segmentation_UNet/BraTS2020_ValidationData/MICCAI_BraTS2020_ValidationData/BraTS20_Validation_116\n",
            "/content/drive/My Drive/MRI_segmentation_UNet/BraTS2020_ValidationData/MICCAI_BraTS2020_ValidationData/BraTS20_Validation_117\n",
            "/content/drive/My Drive/MRI_segmentation_UNet/BraTS2020_ValidationData/MICCAI_BraTS2020_ValidationData/BraTS20_Validation_118\n",
            "/content/drive/My Drive/MRI_segmentation_UNet/BraTS2020_ValidationData/MICCAI_BraTS2020_ValidationData/BraTS20_Validation_119\n",
            "/content/drive/My Drive/MRI_segmentation_UNet/BraTS2020_ValidationData/MICCAI_BraTS2020_ValidationData/BraTS20_Validation_120\n",
            "/content/drive/My Drive/MRI_segmentation_UNet/BraTS2020_ValidationData/MICCAI_BraTS2020_ValidationData/BraTS20_Validation_121\n",
            "/content/drive/My Drive/MRI_segmentation_UNet/BraTS2020_ValidationData/MICCAI_BraTS2020_ValidationData/BraTS20_Validation_122\n",
            "/content/drive/My Drive/MRI_segmentation_UNet/BraTS2020_ValidationData/MICCAI_BraTS2020_ValidationData/BraTS20_Validation_123\n",
            "/content/drive/My Drive/MRI_segmentation_UNet/BraTS2020_ValidationData/MICCAI_BraTS2020_ValidationData/BraTS20_Validation_124\n",
            "/content/drive/My Drive/MRI_segmentation_UNet/BraTS2020_ValidationData/MICCAI_BraTS2020_ValidationData/BraTS20_Validation_125\n"
          ]
        }
      ],
      "source": [
        "t1ce_val, t2_val, flair_val = dataset.load_validation(validating_set, start = 62, end = 125)"
      ]
    },
    {
      "cell_type": "code",
      "source": [
        "t1ce_train = t1ce_train.reshape(68, 240, 240, 155)\n",
        "t2_train = t2_train.reshape(68, 240, 240, 155)\n",
        "flair_train = flair_train.reshape(68, 240, 240, 155)\n",
        "mask_train = mask_train.reshape(68, 240, 240, 155)"
      ],
      "metadata": {
        "id": "y7nC6VIl48RE"
      },
      "execution_count": null,
      "outputs": []
    },
    {
      "cell_type": "code",
      "execution_count": null,
      "metadata": {
        "id": "n6PsZGsoS2jl"
      },
      "outputs": [],
      "source": [
        "multi_channel_img = np.stack([t1ce_train, t2_train, flair_train], axis = 3).reshape(68, 240, 240, 155, 3)\n",
        "# plt.imshow(multi_channel_img[:, :, 115, 2], cmap = 'gray')"
      ]
    },
    {
      "cell_type": "code",
      "source": [
        "multi_channel_img.shape, mask_train.shape"
      ],
      "metadata": {
        "colab": {
          "base_uri": "https://localhost:8080/"
        },
        "id": "TbN028uLN2F2",
        "outputId": "69456d2c-3cb7-4728-f15c-b1e67b57295e"
      },
      "execution_count": null,
      "outputs": [
        {
          "output_type": "execute_result",
          "data": {
            "text/plain": [
              "((68, 240, 240, 155, 3), (68, 240, 240, 155))"
            ]
          },
          "metadata": {},
          "execution_count": 12
        }
      ]
    },
    {
      "cell_type": "markdown",
      "metadata": {
        "id": "fbP9Yo2_Qb_v"
      },
      "source": [
        "## Preprocess Training Portion"
      ]
    },
    {
      "cell_type": "code",
      "execution_count": null,
      "metadata": {
        "id": "xKhoI8VNQbiN"
      },
      "outputs": [],
      "source": [
        "def normalize(img):\n",
        "  \"\"\" returns normalized image with vals between 0 and 1\"\"\"\n",
        "  x_p = (img - img.min()) / (img.max() - img.min())\n",
        "  return x_p\n",
        "\n",
        "def crop_image(img):\n",
        "  \"\"\" returns cropped image (128, 128, 128)\"\"\"\n",
        "  if img.ndim == 5:\n",
        "    return img[:, 56:184, 56:184, 13:141, :]\n",
        "  else:\n",
        "    return img[:, 56:184, 56:184, 13:141]\n",
        "\n",
        "def to_categorial(a):\n",
        "  \"\"\"returns numpy array one hot encoded\"\"\"\n",
        "  num_classes = np.unique(a).shape[0]\n",
        "  ohe = np.zeros((a.shape[0], a.shape[1], a.shape[2], num_classes))\n",
        "\n",
        "  ohe[:, :, :, 0] = (a == 0)\n",
        "  ohe[:, :, :, 1] = (a == 1)\n",
        "  ohe[:, :, :, 2] = (a == 2)\n",
        "  ohe[:, :, :, 3] = (a == 3)\n",
        "  return ohe"
      ]
    },
    {
      "cell_type": "code",
      "execution_count": null,
      "metadata": {
        "id": "j_4OHHXrQ6Yp"
      },
      "outputs": [],
      "source": [
        "mask_train = np.where(mask_train == 4, 3, mask_train) # turning labels from [0, 1, 2, 4] to [0, 1, 2, 3]\n",
        "normalized_img = normalize(multi_channel_img)"
      ]
    },
    {
      "cell_type": "code",
      "execution_count": null,
      "metadata": {
        "id": "kM_OSiomxzoV"
      },
      "outputs": [],
      "source": [
        "cropped_multi_channel_img = crop_image(normalized_img)"
      ]
    },
    {
      "cell_type": "code",
      "source": [
        "cropped_mask = crop_image(mask_train)"
      ],
      "metadata": {
        "id": "JQ3xHPXS_bZn"
      },
      "execution_count": null,
      "outputs": []
    },
    {
      "cell_type": "code",
      "source": [
        "cropped_multi_channel_img.shape, cropped_mask.shape"
      ],
      "metadata": {
        "colab": {
          "base_uri": "https://localhost:8080/"
        },
        "id": "GyYUWJc5_c0v",
        "outputId": "3758e733-ce21-4bd2-ad48-72db284e2794"
      },
      "execution_count": null,
      "outputs": [
        {
          "output_type": "execute_result",
          "data": {
            "text/plain": [
              "((68, 128, 128, 128, 3), (68, 128, 128, 128))"
            ]
          },
          "metadata": {},
          "execution_count": 17
        }
      ]
    },
    {
      "cell_type": "code",
      "source": [
        "save_path_img = '/content/drive/My Drive/MRI_segmentation_UNet/cropped_multi_channel_img_7.npy'\n",
        "save_path_mask = '/content/drive/My Drive/MRI_segmentation_UNet/cropped_mask_7.npy'"
      ],
      "metadata": {
        "id": "pJW_wY9ajxUo"
      },
      "execution_count": null,
      "outputs": []
    },
    {
      "cell_type": "code",
      "source": [
        "np.save(save_path_img, cropped_multi_channel_img)"
      ],
      "metadata": {
        "id": "nQGy2oAah5CU"
      },
      "execution_count": null,
      "outputs": []
    },
    {
      "cell_type": "code",
      "source": [
        "np.save(save_path_mask, cropped_mask)"
      ],
      "metadata": {
        "id": "arP0rHolWodS"
      },
      "execution_count": null,
      "outputs": []
    },
    {
      "cell_type": "code",
      "source": [
        "train_split = np.load(save_path_img)\n",
        "mask_split = np.load(save_path_mask)"
      ],
      "metadata": {
        "id": "wmYT2m13jcBD"
      },
      "execution_count": null,
      "outputs": []
    },
    {
      "cell_type": "markdown",
      "source": [
        "## Preprocess Validation Portion"
      ],
      "metadata": {
        "id": "lfuonk92Y7wE"
      }
    },
    {
      "cell_type": "code",
      "source": [
        "multi_channel_img_val = np.stack([t1ce_val, t2_val, flair_val], axis = 3).reshape(63, 240, 240, 155, 3)"
      ],
      "metadata": {
        "id": "kAG4d2tFpi-V"
      },
      "execution_count": null,
      "outputs": []
    },
    {
      "cell_type": "code",
      "source": [
        "multi_channel_img_val = normalize(multi_channel_img_val)\n",
        "cropped_multi_channel_img_val = crop_image(multi_channel_img_val)"
      ],
      "metadata": {
        "id": "7kmCJ9WsTx5f"
      },
      "execution_count": null,
      "outputs": []
    },
    {
      "cell_type": "code",
      "source": [
        "save_path_img_val = '/content/drive/My Drive/MRI_segmentation_UNet/cropped_multi_channel_val_2.npy'"
      ],
      "metadata": {
        "id": "ZFvwkTtcnz5y"
      },
      "execution_count": null,
      "outputs": []
    },
    {
      "cell_type": "code",
      "source": [
        "np.save(save_path_img_val, cropped_multi_channel_img_val)"
      ],
      "metadata": {
        "id": "lmR1reCyhRzJ"
      },
      "execution_count": null,
      "outputs": []
    },
    {
      "cell_type": "code",
      "source": [
        "valid_split = np.load(save_path_img_val)"
      ],
      "metadata": {
        "id": "PZihKQe4jluQ"
      },
      "execution_count": null,
      "outputs": []
    }
  ],
  "metadata": {
    "colab": {
      "machine_shape": "hm",
      "provenance": [],
      "authorship_tag": "ABX9TyMTXWq64yKiaNvoBme7+d2F",
      "include_colab_link": true
    },
    "kernelspec": {
      "display_name": "Python 3",
      "name": "python3"
    },
    "language_info": {
      "name": "python"
    }
  },
  "nbformat": 4,
  "nbformat_minor": 0
}